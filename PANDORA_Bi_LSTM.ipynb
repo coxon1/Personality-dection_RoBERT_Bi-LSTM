{
  "cells": [
    {
      "cell_type": "code",
      "execution_count": null,
      "metadata": {
        "id": "_xfx2e4xoo59"
      },
      "outputs": [],
      "source": [
        "import pandas as pd\n",
        "import numpy as np\n",
        "from keras.preprocessing.text import Tokenizer\n",
        "from tensorflow.keras.preprocessing.sequence import pad_sequences\n",
        "from keras.models import Sequential\n",
        "from keras.layers import Dense, LSTM, Embedding, BatchNormalization\n",
        "from keras.wrappers.scikit_learn import KerasRegressor\n",
        "from sklearn.model_selection import GridSearchCV\n",
        "from sklearn.preprocessing import StandardScaler\n",
        "from sklearn.metrics import mean_absolute_error, mean_squared_error, r2_score\n",
        "from math import sqrt\n",
        "from sklearn.model_selection import train_test_split\n",
        "from keras.layers import Bidirectional, Dropout\n",
        "from keras.regularizers import l2\n",
        "from keras.callbacks import EarlyStopping\n",
        "from keras.optimizers import Adam\n",
        "from sklearn.model_selection import KFold"
      ]
    },
    {
      "cell_type": "code",
      "source": [
        "from google.colab import drive\n",
        "drive.mount('/content/drive')"
      ],
      "metadata": {
        "id": "5E_yb-cawK5t",
        "colab": {
          "base_uri": "https://localhost:8080/"
        },
        "outputId": "3c6316fa-ac4e-4495-ae48-257718400f4f"
      },
      "execution_count": null,
      "outputs": [
        {
          "output_type": "stream",
          "name": "stdout",
          "text": [
            "Mounted at /content/drive\n"
          ]
        }
      ]
    },
    {
      "cell_type": "code",
      "source": [
        "df = pd.read_csv(\"/content/drive/MyDrive/Thesis Personality computation-Yucheng Chen/pandora_v4.csv\", encoding='latin-1')\n"
      ],
      "metadata": {
        "id": "WTPBt_Ht0bg-"
      },
      "execution_count": null,
      "outputs": []
    },
    {
      "cell_type": "code",
      "source": [
        "# Initialize the tokenizer\n",
        "tokenizer = Tokenizer()\n",
        "df['lemmatized_body'] = df['lemmatized_body'].astype(str)\n",
        "max_sequence_length = 128\n",
        "y = df[['ext', 'neu', 'agr', 'con', 'ope']].values\n",
        "# Split your data first\n",
        "X_train, X_test, y_train, y_test = train_test_split(df['lemmatized_body'], y, test_size=0.3, random_state=42)\n",
        "\n",
        "# Fit the tokenizer on the TRAINING tweets\n",
        "tokenizer.fit_on_texts(X_train)\n",
        "\n",
        "# Transform the TRAINING tweets into sequences of integers\n",
        "sequences_train = tokenizer.texts_to_sequences(X_train)\n",
        "\n",
        "# Transform the TEST tweets into sequences of integers\n",
        "sequences_test = tokenizer.texts_to_sequences(X_test)\n",
        "\n",
        "# Pad the TRAINING sequences so they all have the same length\n",
        "X_train = pad_sequences(sequences_train, maxlen=max_sequence_length)\n",
        "\n",
        "# Pad the TEST sequences so they all have the same length\n",
        "X_test = pad_sequences(sequences_test, maxlen=max_sequence_length)\n"
      ],
      "metadata": {
        "id": "EkUuOBJMze73"
      },
      "execution_count": null,
      "outputs": []
    },
    {
      "cell_type": "code",
      "source": [
        "# Define early stopping\n",
        "early_stopping = EarlyStopping(monitor='val_loss', patience=3)\n",
        "# Define the BiLSTM model\n",
        "model = Sequential()\n",
        "model.add(Embedding(input_dim=len(tokenizer.word_index)+1, output_dim=128, input_length=max_sequence_length))\n",
        "model.add(Bidirectional(LSTM(128, return_sequences=True)))\n",
        "model.add(BatchNormalization())\n",
        "model.add(Dropout(0.2))\n",
        "model.add(Bidirectional(LSTM(128)))\n",
        "model.add(BatchNormalization())\n",
        "model.add(Dropout(0.2))\n",
        "model.add(Dense(5, kernel_regularizer=l2(0.05)))\n",
        "\n",
        "# Compile the model\n",
        "model.compile(loss='mean_squared_error', optimizer=Adam())\n",
        "\n",
        "# Define early stopping\n",
        "early_stopping = EarlyStopping(monitor='val_loss', patience=2)\n",
        "\n",
        "# Add these callbacks to the fit() function\n",
        "model.fit(X_train, y_train, epochs=10, validation_split=0.2, callbacks=[early_stopping])\n",
        "\n",
        "# Evaluate the model\n",
        "loss = model.evaluate(X_test, y_test)\n"
      ],
      "metadata": {
        "id": "FTTbxFC10esK",
        "colab": {
          "base_uri": "https://localhost:8080/"
        },
        "outputId": "6ff60898-8152-4dc5-b2de-d7563e2f21e9"
      },
      "execution_count": null,
      "outputs": [
        {
          "output_type": "stream",
          "name": "stdout",
          "text": [
            "Epoch 1/10\n",
            "350/350 [==============================] - 16s 30ms/step - loss: 0.4764 - val_loss: 0.1295\n",
            "Epoch 2/10\n",
            "350/350 [==============================] - 10s 27ms/step - loss: 0.0893 - val_loss: 0.0780\n",
            "Epoch 3/10\n",
            "350/350 [==============================] - 9s 27ms/step - loss: 0.0523 - val_loss: 0.0735\n",
            "Epoch 4/10\n",
            "350/350 [==============================] - 10s 27ms/step - loss: 0.0353 - val_loss: 0.0757\n",
            "Epoch 5/10\n",
            "350/350 [==============================] - 9s 26ms/step - loss: 0.0268 - val_loss: 0.0785\n",
            "188/188 [==============================] - 2s 10ms/step - loss: 0.0792\n"
          ]
        }
      ]
    },
    {
      "cell_type": "code",
      "source": [
        "# RMSE MAE MSE R^2 for training dataset to evaluate if the model is overfitting or underfitting\n",
        "predictions =model.predict(X_train)\n",
        "\n",
        "trait_names = ['ext', 'neu', 'agr', 'con', 'ope']\n",
        "\n",
        "# Loop over each trait\n",
        "for i in range(5):\n",
        "    # Select the true and predicted values for this trait\n",
        "    y_true = y_train[:, i]\n",
        "    y_pred = predictions[:, i]\n",
        "\n",
        "    # Compute metrics\n",
        "    mae = mean_absolute_error(y_true, y_pred)\n",
        "    mse = mean_squared_error(y_true, y_pred)\n",
        "    rmse = np.sqrt(mse)  # RMSE is just the square root of MSE\n",
        "    r2 = r2_score(y_true, y_pred)\n",
        "\n",
        "    # Print results\n",
        "    print(f\"{trait_names[i]}:\")\n",
        "    print(f\"  MAE:  {mae:.4f}\")\n",
        "    print(f\"  MSE:  {mse:.4f}\")\n",
        "    print(f\"  RMSE: {rmse:.4f}\")\n",
        "    print(f\"  R^2:  {r2:.4f}\")"
      ],
      "metadata": {
        "colab": {
          "base_uri": "https://localhost:8080/"
        },
        "id": "xW5pStOV1lSs",
        "outputId": "c7a7ed8f-975e-4885-f918-125b378633f7"
      },
      "execution_count": null,
      "outputs": [
        {
          "output_type": "stream",
          "name": "stdout",
          "text": [
            "ext:\n",
            "  MAE:  0.1364\n",
            "  MSE:  0.0370\n",
            "  RMSE: 0.1924\n",
            "  R^2:  0.7129\n",
            "neu:\n",
            "  MAE:  0.1178\n",
            "  MSE:  0.0307\n",
            "  RMSE: 0.1751\n",
            "  R^2:  0.6817\n",
            "agr:\n",
            "  MAE:  0.1097\n",
            "  MSE:  0.0287\n",
            "  RMSE: 0.1694\n",
            "  R^2:  0.6985\n",
            "con:\n",
            "  MAE:  0.0944\n",
            "  MSE:  0.0214\n",
            "  RMSE: 0.1461\n",
            "  R^2:  0.6943\n",
            "ope:\n",
            "  MAE:  0.1245\n",
            "  MSE:  0.0250\n",
            "  RMSE: 0.1583\n",
            "  R^2:  0.5398\n"
          ]
        }
      ]
    },
    {
      "cell_type": "code",
      "source": [
        "# Make predictions\n",
        "predictions = model.predict(X_test)\n",
        "\n",
        "\n",
        "\n",
        "trait_names = ['ext', 'neu', 'agr', 'con', 'ope']\n",
        "\n",
        "# Loop over each trait\n",
        "for i in range(5):\n",
        "    # Select the true and predicted values for this trait\n",
        "    y_true = y_test[:, i]\n",
        "    y_pred = predictions[:, i]\n",
        "\n",
        "    # Compute metrics\n",
        "    mae = mean_absolute_error(y_true, y_pred)\n",
        "    mse = mean_squared_error(y_true, y_pred)\n",
        "    rmse = np.sqrt(mse)  # RMSE is just the square root of MSE\n",
        "    r2 = r2_score(y_true, y_pred)\n",
        "\n",
        "    # Print results\n",
        "    print(f\"{trait_names[i]}:\")\n",
        "    print(f\"  MAE:  {mae:.4f}\")\n",
        "    print(f\"  MSE:  {mse:.4f}\")\n",
        "    print(f\"  RMSE: {rmse:.4f}\")\n",
        "    print(f\"  R^2:  {r2:.4f}\")"
      ],
      "metadata": {
        "colab": {
          "base_uri": "https://localhost:8080/"
        },
        "id": "ljsQZDON21Xh",
        "outputId": "8d3e6d79-c607-4fa8-956f-9fa047e1e3d7"
      },
      "execution_count": null,
      "outputs": [
        {
          "output_type": "stream",
          "name": "stdout",
          "text": [
            "188/188 [==============================] - 2s 8ms/step\n",
            "ext:\n",
            "  MAE:  0.2413\n",
            "  MSE:  0.1033\n",
            "  RMSE: 0.3214\n",
            "  R^2:  0.1915\n",
            "neu:\n",
            "  MAE:  0.2295\n",
            "  MSE:  0.0937\n",
            "  RMSE: 0.3061\n",
            "  R^2:  0.0090\n",
            "agr:\n",
            "  MAE:  0.2067\n",
            "  MSE:  0.0811\n",
            "  RMSE: 0.2849\n",
            "  R^2:  0.1194\n",
            "con:\n",
            "  MAE:  0.1663\n",
            "  MSE:  0.0573\n",
            "  RMSE: 0.2395\n",
            "  R^2:  0.1730\n",
            "ope:\n",
            "  MAE:  0.1686\n",
            "  MSE:  0.0484\n",
            "  RMSE: 0.2200\n",
            "  R^2:  0.0960\n"
          ]
        }
      ]
    },
    {
      "cell_type": "code",
      "source": [
        "# Convert the predictions to a DataFrame\n",
        "predictions_df = pd.DataFrame(predictions, columns=trait_names)\n",
        "\n",
        "# Compute the correlation matrix\n",
        "correlation_matrix = predictions_df.corr()\n",
        "\n",
        "# Print the correlation matrix\n",
        "print(correlation_matrix)"
      ],
      "metadata": {
        "colab": {
          "base_uri": "https://localhost:8080/"
        },
        "id": "FzfEGVTSqM2I",
        "outputId": "aa0a2ea5-ab90-4220-9b2a-8e2b72b66793"
      },
      "execution_count": null,
      "outputs": [
        {
          "output_type": "stream",
          "name": "stdout",
          "text": [
            "          ext       neu       agr       con       ope\n",
            "ext  1.000000 -0.586961 -0.475499  0.117677  0.326704\n",
            "neu -0.586961  1.000000 -0.051451 -0.350518  0.003354\n",
            "agr -0.475499 -0.051451  1.000000  0.416910 -0.177667\n",
            "con  0.117677 -0.350518  0.416910  1.000000 -0.602274\n",
            "ope  0.326704  0.003354 -0.177667 -0.602274  1.000000\n"
          ]
        }
      ]
    }
  ],
  "metadata": {
    "colab": {
      "provenance": [],
      "gpuType": "T4"
    },
    "kernelspec": {
      "display_name": "Python 3",
      "name": "python3"
    },
    "language_info": {
      "name": "python"
    },
    "accelerator": "GPU"
  },
  "nbformat": 4,
  "nbformat_minor": 0
}